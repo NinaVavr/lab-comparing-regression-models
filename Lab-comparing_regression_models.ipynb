{
 "cells": [
  {
   "cell_type": "code",
   "execution_count": 1,
   "id": "ba4a0ed5",
   "metadata": {},
   "outputs": [],
   "source": [
    "import pandas as pd\n",
    "import numpy as np \n",
    "import matplotlib.pyplot as plt"
   ]
  },
  {
   "cell_type": "code",
   "execution_count": 2,
   "id": "08580734",
   "metadata": {},
   "outputs": [
    {
     "data": {
      "text/html": [
       "<div>\n",
       "<style scoped>\n",
       "    .dataframe tbody tr th:only-of-type {\n",
       "        vertical-align: middle;\n",
       "    }\n",
       "\n",
       "    .dataframe tbody tr th {\n",
       "        vertical-align: top;\n",
       "    }\n",
       "\n",
       "    .dataframe thead th {\n",
       "        text-align: right;\n",
       "    }\n",
       "</style>\n",
       "<table border=\"1\" class=\"dataframe\">\n",
       "  <thead>\n",
       "    <tr style=\"text-align: right;\">\n",
       "      <th></th>\n",
       "      <th>Unnamed: 0</th>\n",
       "      <th>state</th>\n",
       "      <th>response</th>\n",
       "      <th>coverage</th>\n",
       "      <th>education</th>\n",
       "      <th>employmentstatus</th>\n",
       "      <th>gender</th>\n",
       "      <th>location_code</th>\n",
       "      <th>marital_status</th>\n",
       "      <th>policy_type</th>\n",
       "      <th>renew_offer_type</th>\n",
       "      <th>sales_channel</th>\n",
       "      <th>vehicle_class</th>\n",
       "      <th>vehicle_size</th>\n",
       "      <th>month</th>\n",
       "      <th>year</th>\n",
       "    </tr>\n",
       "  </thead>\n",
       "  <tbody>\n",
       "    <tr>\n",
       "      <th>0</th>\n",
       "      <td>0</td>\n",
       "      <td>Washington</td>\n",
       "      <td>No</td>\n",
       "      <td>Basic</td>\n",
       "      <td>Bachelor</td>\n",
       "      <td>Employed</td>\n",
       "      <td>F</td>\n",
       "      <td>Suburban</td>\n",
       "      <td>Married</td>\n",
       "      <td>Corporate Auto L3</td>\n",
       "      <td>Offer1</td>\n",
       "      <td>Agent</td>\n",
       "      <td>Two-Door Car</td>\n",
       "      <td>Medsize</td>\n",
       "      <td>2</td>\n",
       "      <td>2011</td>\n",
       "    </tr>\n",
       "    <tr>\n",
       "      <th>1</th>\n",
       "      <td>1</td>\n",
       "      <td>Arizona</td>\n",
       "      <td>No</td>\n",
       "      <td>Extended</td>\n",
       "      <td>Bachelor</td>\n",
       "      <td>Unemployed</td>\n",
       "      <td>F</td>\n",
       "      <td>Suburban</td>\n",
       "      <td>Single</td>\n",
       "      <td>Personal Auto L3</td>\n",
       "      <td>Offer3</td>\n",
       "      <td>Agent</td>\n",
       "      <td>Four-Door Car</td>\n",
       "      <td>Medsize</td>\n",
       "      <td>1</td>\n",
       "      <td>2011</td>\n",
       "    </tr>\n",
       "    <tr>\n",
       "      <th>2</th>\n",
       "      <td>2</td>\n",
       "      <td>Nevada</td>\n",
       "      <td>No</td>\n",
       "      <td>Premium</td>\n",
       "      <td>Bachelor</td>\n",
       "      <td>Employed</td>\n",
       "      <td>F</td>\n",
       "      <td>Suburban</td>\n",
       "      <td>Married</td>\n",
       "      <td>Personal Auto L3</td>\n",
       "      <td>Offer1</td>\n",
       "      <td>Agent</td>\n",
       "      <td>Two-Door Car</td>\n",
       "      <td>Medsize</td>\n",
       "      <td>2</td>\n",
       "      <td>2011</td>\n",
       "    </tr>\n",
       "    <tr>\n",
       "      <th>3</th>\n",
       "      <td>3</td>\n",
       "      <td>California</td>\n",
       "      <td>No</td>\n",
       "      <td>Basic</td>\n",
       "      <td>Bachelor</td>\n",
       "      <td>Unemployed</td>\n",
       "      <td>M</td>\n",
       "      <td>Suburban</td>\n",
       "      <td>Married</td>\n",
       "      <td>Corporate Auto L2</td>\n",
       "      <td>Offer1</td>\n",
       "      <td>Call Center</td>\n",
       "      <td>SUV</td>\n",
       "      <td>Medsize</td>\n",
       "      <td>1</td>\n",
       "      <td>2011</td>\n",
       "    </tr>\n",
       "    <tr>\n",
       "      <th>4</th>\n",
       "      <td>4</td>\n",
       "      <td>Washington</td>\n",
       "      <td>No</td>\n",
       "      <td>Basic</td>\n",
       "      <td>Bachelor</td>\n",
       "      <td>Employed</td>\n",
       "      <td>M</td>\n",
       "      <td>Rural</td>\n",
       "      <td>Single</td>\n",
       "      <td>Personal Auto L1</td>\n",
       "      <td>Offer1</td>\n",
       "      <td>Agent</td>\n",
       "      <td>Four-Door Car</td>\n",
       "      <td>Medsize</td>\n",
       "      <td>2</td>\n",
       "      <td>2011</td>\n",
       "    </tr>\n",
       "  </tbody>\n",
       "</table>\n",
       "</div>"
      ],
      "text/plain": [
       "   Unnamed: 0       state response  coverage education employmentstatus  \\\n",
       "0           0  Washington       No     Basic  Bachelor         Employed   \n",
       "1           1     Arizona       No  Extended  Bachelor       Unemployed   \n",
       "2           2      Nevada       No   Premium  Bachelor         Employed   \n",
       "3           3  California       No     Basic  Bachelor       Unemployed   \n",
       "4           4  Washington       No     Basic  Bachelor         Employed   \n",
       "\n",
       "  gender location_code marital_status        policy_type renew_offer_type  \\\n",
       "0      F      Suburban        Married  Corporate Auto L3           Offer1   \n",
       "1      F      Suburban         Single   Personal Auto L3           Offer3   \n",
       "2      F      Suburban        Married   Personal Auto L3           Offer1   \n",
       "3      M      Suburban        Married  Corporate Auto L2           Offer1   \n",
       "4      M         Rural         Single   Personal Auto L1           Offer1   \n",
       "\n",
       "  sales_channel  vehicle_class vehicle_size  month  year  \n",
       "0         Agent   Two-Door Car      Medsize      2  2011  \n",
       "1         Agent  Four-Door Car      Medsize      1  2011  \n",
       "2         Agent   Two-Door Car      Medsize      2  2011  \n",
       "3   Call Center            SUV      Medsize      1  2011  \n",
       "4         Agent  Four-Door Car      Medsize      2  2011  "
      ]
     },
     "execution_count": 2,
     "metadata": {},
     "output_type": "execute_result"
    }
   ],
   "source": [
    "numerical_df = pd.read_csv('../lab-cleaning-numerical-data/files_for_lab/numerical.csv') \n",
    "categorical_df =  pd.read_csv('../lab-cleaning-numerical-data/files_for_lab/categorical.csv') \n",
    "numerical_df.head()\n",
    "categorical_df.head()"
   ]
  },
  {
   "cell_type": "markdown",
   "id": "b9e45e30",
   "metadata": {},
   "source": [
    "# Concatinating numerical with categorical dataframe"
   ]
  },
  {
   "cell_type": "code",
   "execution_count": 3,
   "id": "3d29bdc8",
   "metadata": {},
   "outputs": [
    {
     "data": {
      "text/html": [
       "<div>\n",
       "<style scoped>\n",
       "    .dataframe tbody tr th:only-of-type {\n",
       "        vertical-align: middle;\n",
       "    }\n",
       "\n",
       "    .dataframe tbody tr th {\n",
       "        vertical-align: top;\n",
       "    }\n",
       "\n",
       "    .dataframe thead th {\n",
       "        text-align: right;\n",
       "    }\n",
       "</style>\n",
       "<table border=\"1\" class=\"dataframe\">\n",
       "  <thead>\n",
       "    <tr style=\"text-align: right;\">\n",
       "      <th></th>\n",
       "      <th>Unnamed: 0</th>\n",
       "      <th>customer_lifetime_value</th>\n",
       "      <th>income</th>\n",
       "      <th>monthly_premium_auto</th>\n",
       "      <th>months_since_last_claim</th>\n",
       "      <th>months_since_policy_inception</th>\n",
       "      <th>number_of_open_complaints</th>\n",
       "      <th>number_of_policies</th>\n",
       "      <th>total_claim_amount</th>\n",
       "      <th>Unnamed: 0</th>\n",
       "      <th>...</th>\n",
       "      <th>gender</th>\n",
       "      <th>location_code</th>\n",
       "      <th>marital_status</th>\n",
       "      <th>policy_type</th>\n",
       "      <th>renew_offer_type</th>\n",
       "      <th>sales_channel</th>\n",
       "      <th>vehicle_class</th>\n",
       "      <th>vehicle_size</th>\n",
       "      <th>month</th>\n",
       "      <th>year</th>\n",
       "    </tr>\n",
       "  </thead>\n",
       "  <tbody>\n",
       "    <tr>\n",
       "      <th>0</th>\n",
       "      <td>0</td>\n",
       "      <td>2763.519279</td>\n",
       "      <td>56274</td>\n",
       "      <td>69</td>\n",
       "      <td>32</td>\n",
       "      <td>5</td>\n",
       "      <td>0</td>\n",
       "      <td>1</td>\n",
       "      <td>384.811147</td>\n",
       "      <td>0</td>\n",
       "      <td>...</td>\n",
       "      <td>F</td>\n",
       "      <td>Suburban</td>\n",
       "      <td>Married</td>\n",
       "      <td>Corporate Auto L3</td>\n",
       "      <td>Offer1</td>\n",
       "      <td>Agent</td>\n",
       "      <td>Two-Door Car</td>\n",
       "      <td>Medsize</td>\n",
       "      <td>2</td>\n",
       "      <td>2011</td>\n",
       "    </tr>\n",
       "    <tr>\n",
       "      <th>1</th>\n",
       "      <td>1</td>\n",
       "      <td>6979.535903</td>\n",
       "      <td>0</td>\n",
       "      <td>94</td>\n",
       "      <td>13</td>\n",
       "      <td>42</td>\n",
       "      <td>0</td>\n",
       "      <td>8</td>\n",
       "      <td>1131.464935</td>\n",
       "      <td>1</td>\n",
       "      <td>...</td>\n",
       "      <td>F</td>\n",
       "      <td>Suburban</td>\n",
       "      <td>Single</td>\n",
       "      <td>Personal Auto L3</td>\n",
       "      <td>Offer3</td>\n",
       "      <td>Agent</td>\n",
       "      <td>Four-Door Car</td>\n",
       "      <td>Medsize</td>\n",
       "      <td>1</td>\n",
       "      <td>2011</td>\n",
       "    </tr>\n",
       "    <tr>\n",
       "      <th>2</th>\n",
       "      <td>2</td>\n",
       "      <td>12887.431650</td>\n",
       "      <td>48767</td>\n",
       "      <td>108</td>\n",
       "      <td>18</td>\n",
       "      <td>38</td>\n",
       "      <td>0</td>\n",
       "      <td>2</td>\n",
       "      <td>566.472247</td>\n",
       "      <td>2</td>\n",
       "      <td>...</td>\n",
       "      <td>F</td>\n",
       "      <td>Suburban</td>\n",
       "      <td>Married</td>\n",
       "      <td>Personal Auto L3</td>\n",
       "      <td>Offer1</td>\n",
       "      <td>Agent</td>\n",
       "      <td>Two-Door Car</td>\n",
       "      <td>Medsize</td>\n",
       "      <td>2</td>\n",
       "      <td>2011</td>\n",
       "    </tr>\n",
       "    <tr>\n",
       "      <th>3</th>\n",
       "      <td>3</td>\n",
       "      <td>7645.861827</td>\n",
       "      <td>0</td>\n",
       "      <td>106</td>\n",
       "      <td>18</td>\n",
       "      <td>65</td>\n",
       "      <td>0</td>\n",
       "      <td>7</td>\n",
       "      <td>529.881344</td>\n",
       "      <td>3</td>\n",
       "      <td>...</td>\n",
       "      <td>M</td>\n",
       "      <td>Suburban</td>\n",
       "      <td>Married</td>\n",
       "      <td>Corporate Auto L2</td>\n",
       "      <td>Offer1</td>\n",
       "      <td>Call Center</td>\n",
       "      <td>SUV</td>\n",
       "      <td>Medsize</td>\n",
       "      <td>1</td>\n",
       "      <td>2011</td>\n",
       "    </tr>\n",
       "    <tr>\n",
       "      <th>4</th>\n",
       "      <td>4</td>\n",
       "      <td>2813.692575</td>\n",
       "      <td>43836</td>\n",
       "      <td>73</td>\n",
       "      <td>12</td>\n",
       "      <td>44</td>\n",
       "      <td>0</td>\n",
       "      <td>1</td>\n",
       "      <td>138.130879</td>\n",
       "      <td>4</td>\n",
       "      <td>...</td>\n",
       "      <td>M</td>\n",
       "      <td>Rural</td>\n",
       "      <td>Single</td>\n",
       "      <td>Personal Auto L1</td>\n",
       "      <td>Offer1</td>\n",
       "      <td>Agent</td>\n",
       "      <td>Four-Door Car</td>\n",
       "      <td>Medsize</td>\n",
       "      <td>2</td>\n",
       "      <td>2011</td>\n",
       "    </tr>\n",
       "    <tr>\n",
       "      <th>...</th>\n",
       "      <td>...</td>\n",
       "      <td>...</td>\n",
       "      <td>...</td>\n",
       "      <td>...</td>\n",
       "      <td>...</td>\n",
       "      <td>...</td>\n",
       "      <td>...</td>\n",
       "      <td>...</td>\n",
       "      <td>...</td>\n",
       "      <td>...</td>\n",
       "      <td>...</td>\n",
       "      <td>...</td>\n",
       "      <td>...</td>\n",
       "      <td>...</td>\n",
       "      <td>...</td>\n",
       "      <td>...</td>\n",
       "      <td>...</td>\n",
       "      <td>...</td>\n",
       "      <td>...</td>\n",
       "      <td>...</td>\n",
       "      <td>...</td>\n",
       "    </tr>\n",
       "    <tr>\n",
       "      <th>9129</th>\n",
       "      <td>9129</td>\n",
       "      <td>23405.987980</td>\n",
       "      <td>71941</td>\n",
       "      <td>73</td>\n",
       "      <td>18</td>\n",
       "      <td>89</td>\n",
       "      <td>0</td>\n",
       "      <td>2</td>\n",
       "      <td>198.234764</td>\n",
       "      <td>9129</td>\n",
       "      <td>...</td>\n",
       "      <td>M</td>\n",
       "      <td>Urban</td>\n",
       "      <td>Married</td>\n",
       "      <td>Personal Auto L1</td>\n",
       "      <td>Offer2</td>\n",
       "      <td>Web</td>\n",
       "      <td>Four-Door Car</td>\n",
       "      <td>Medsize</td>\n",
       "      <td>2</td>\n",
       "      <td>2011</td>\n",
       "    </tr>\n",
       "    <tr>\n",
       "      <th>9130</th>\n",
       "      <td>9130</td>\n",
       "      <td>3096.511217</td>\n",
       "      <td>21604</td>\n",
       "      <td>79</td>\n",
       "      <td>14</td>\n",
       "      <td>28</td>\n",
       "      <td>0</td>\n",
       "      <td>1</td>\n",
       "      <td>379.200000</td>\n",
       "      <td>9130</td>\n",
       "      <td>...</td>\n",
       "      <td>F</td>\n",
       "      <td>Suburban</td>\n",
       "      <td>Divorced</td>\n",
       "      <td>Corporate Auto L3</td>\n",
       "      <td>Offer1</td>\n",
       "      <td>Branch</td>\n",
       "      <td>Four-Door Car</td>\n",
       "      <td>Medsize</td>\n",
       "      <td>2</td>\n",
       "      <td>2011</td>\n",
       "    </tr>\n",
       "    <tr>\n",
       "      <th>9131</th>\n",
       "      <td>9131</td>\n",
       "      <td>8163.890428</td>\n",
       "      <td>0</td>\n",
       "      <td>85</td>\n",
       "      <td>9</td>\n",
       "      <td>37</td>\n",
       "      <td>3</td>\n",
       "      <td>2</td>\n",
       "      <td>790.784983</td>\n",
       "      <td>9131</td>\n",
       "      <td>...</td>\n",
       "      <td>M</td>\n",
       "      <td>Suburban</td>\n",
       "      <td>Single</td>\n",
       "      <td>Corporate Auto L2</td>\n",
       "      <td>Offer1</td>\n",
       "      <td>Branch</td>\n",
       "      <td>Four-Door Car</td>\n",
       "      <td>Medsize</td>\n",
       "      <td>2</td>\n",
       "      <td>2011</td>\n",
       "    </tr>\n",
       "    <tr>\n",
       "      <th>9132</th>\n",
       "      <td>9132</td>\n",
       "      <td>7524.442436</td>\n",
       "      <td>21941</td>\n",
       "      <td>96</td>\n",
       "      <td>34</td>\n",
       "      <td>3</td>\n",
       "      <td>0</td>\n",
       "      <td>3</td>\n",
       "      <td>691.200000</td>\n",
       "      <td>9132</td>\n",
       "      <td>...</td>\n",
       "      <td>M</td>\n",
       "      <td>Suburban</td>\n",
       "      <td>Married</td>\n",
       "      <td>Personal Auto L2</td>\n",
       "      <td>Offer3</td>\n",
       "      <td>Branch</td>\n",
       "      <td>Four-Door Car</td>\n",
       "      <td>Large</td>\n",
       "      <td>2</td>\n",
       "      <td>2011</td>\n",
       "    </tr>\n",
       "    <tr>\n",
       "      <th>9133</th>\n",
       "      <td>9133</td>\n",
       "      <td>2611.836866</td>\n",
       "      <td>0</td>\n",
       "      <td>77</td>\n",
       "      <td>3</td>\n",
       "      <td>90</td>\n",
       "      <td>0</td>\n",
       "      <td>1</td>\n",
       "      <td>369.600000</td>\n",
       "      <td>9133</td>\n",
       "      <td>...</td>\n",
       "      <td>M</td>\n",
       "      <td>Suburban</td>\n",
       "      <td>Single</td>\n",
       "      <td>Corporate Auto L3</td>\n",
       "      <td>Offer4</td>\n",
       "      <td>Call Center</td>\n",
       "      <td>Two-Door Car</td>\n",
       "      <td>Medsize</td>\n",
       "      <td>2</td>\n",
       "      <td>2011</td>\n",
       "    </tr>\n",
       "  </tbody>\n",
       "</table>\n",
       "<p>9134 rows × 25 columns</p>\n",
       "</div>"
      ],
      "text/plain": [
       "      Unnamed: 0  customer_lifetime_value  income  monthly_premium_auto  \\\n",
       "0              0              2763.519279   56274                    69   \n",
       "1              1              6979.535903       0                    94   \n",
       "2              2             12887.431650   48767                   108   \n",
       "3              3              7645.861827       0                   106   \n",
       "4              4              2813.692575   43836                    73   \n",
       "...          ...                      ...     ...                   ...   \n",
       "9129        9129             23405.987980   71941                    73   \n",
       "9130        9130              3096.511217   21604                    79   \n",
       "9131        9131              8163.890428       0                    85   \n",
       "9132        9132              7524.442436   21941                    96   \n",
       "9133        9133              2611.836866       0                    77   \n",
       "\n",
       "      months_since_last_claim  months_since_policy_inception  \\\n",
       "0                          32                              5   \n",
       "1                          13                             42   \n",
       "2                          18                             38   \n",
       "3                          18                             65   \n",
       "4                          12                             44   \n",
       "...                       ...                            ...   \n",
       "9129                       18                             89   \n",
       "9130                       14                             28   \n",
       "9131                        9                             37   \n",
       "9132                       34                              3   \n",
       "9133                        3                             90   \n",
       "\n",
       "      number_of_open_complaints  number_of_policies  total_claim_amount  \\\n",
       "0                             0                   1          384.811147   \n",
       "1                             0                   8         1131.464935   \n",
       "2                             0                   2          566.472247   \n",
       "3                             0                   7          529.881344   \n",
       "4                             0                   1          138.130879   \n",
       "...                         ...                 ...                 ...   \n",
       "9129                          0                   2          198.234764   \n",
       "9130                          0                   1          379.200000   \n",
       "9131                          3                   2          790.784983   \n",
       "9132                          0                   3          691.200000   \n",
       "9133                          0                   1          369.600000   \n",
       "\n",
       "      Unnamed: 0  ... gender location_code marital_status        policy_type  \\\n",
       "0              0  ...      F      Suburban        Married  Corporate Auto L3   \n",
       "1              1  ...      F      Suburban         Single   Personal Auto L3   \n",
       "2              2  ...      F      Suburban        Married   Personal Auto L3   \n",
       "3              3  ...      M      Suburban        Married  Corporate Auto L2   \n",
       "4              4  ...      M         Rural         Single   Personal Auto L1   \n",
       "...          ...  ...    ...           ...            ...                ...   \n",
       "9129        9129  ...      M         Urban        Married   Personal Auto L1   \n",
       "9130        9130  ...      F      Suburban       Divorced  Corporate Auto L3   \n",
       "9131        9131  ...      M      Suburban         Single  Corporate Auto L2   \n",
       "9132        9132  ...      M      Suburban        Married   Personal Auto L2   \n",
       "9133        9133  ...      M      Suburban         Single  Corporate Auto L3   \n",
       "\n",
       "     renew_offer_type sales_channel  vehicle_class vehicle_size month  year  \n",
       "0              Offer1         Agent   Two-Door Car      Medsize     2  2011  \n",
       "1              Offer3         Agent  Four-Door Car      Medsize     1  2011  \n",
       "2              Offer1         Agent   Two-Door Car      Medsize     2  2011  \n",
       "3              Offer1   Call Center            SUV      Medsize     1  2011  \n",
       "4              Offer1         Agent  Four-Door Car      Medsize     2  2011  \n",
       "...               ...           ...            ...          ...   ...   ...  \n",
       "9129           Offer2           Web  Four-Door Car      Medsize     2  2011  \n",
       "9130           Offer1        Branch  Four-Door Car      Medsize     2  2011  \n",
       "9131           Offer1        Branch  Four-Door Car      Medsize     2  2011  \n",
       "9132           Offer3        Branch  Four-Door Car        Large     2  2011  \n",
       "9133           Offer4   Call Center   Two-Door Car      Medsize     2  2011  \n",
       "\n",
       "[9134 rows x 25 columns]"
      ]
     },
     "execution_count": 3,
     "metadata": {},
     "output_type": "execute_result"
    }
   ],
   "source": [
    "data = pd.concat([numerical_df, categorical_df], axis=1, join=\"inner\")\n",
    "data"
   ]
  },
  {
   "cell_type": "code",
   "execution_count": 4,
   "id": "c1a8f5e0",
   "metadata": {},
   "outputs": [
    {
     "data": {
      "text/plain": [
       "Unnamed: 0                         int64\n",
       "customer_lifetime_value          float64\n",
       "income                             int64\n",
       "monthly_premium_auto               int64\n",
       "months_since_last_claim            int64\n",
       "months_since_policy_inception      int64\n",
       "number_of_open_complaints          int64\n",
       "number_of_policies                 int64\n",
       "total_claim_amount               float64\n",
       "Unnamed: 0                         int64\n",
       "state                             object\n",
       "response                          object\n",
       "coverage                          object\n",
       "education                         object\n",
       "employmentstatus                  object\n",
       "gender                            object\n",
       "location_code                     object\n",
       "marital_status                    object\n",
       "policy_type                       object\n",
       "renew_offer_type                  object\n",
       "sales_channel                     object\n",
       "vehicle_class                     object\n",
       "vehicle_size                      object\n",
       "month                             object\n",
       "year                              object\n",
       "dtype: object"
      ]
     },
     "execution_count": 4,
     "metadata": {},
     "output_type": "execute_result"
    }
   ],
   "source": [
    "#Converting numerical columns month and year as categoricals as we won't use them as dates later. \n",
    "data['month'] = data['month'].astype(object)\n",
    "data['year'] = data['year'].astype(object)\n",
    "data.dtypes"
   ]
  },
  {
   "cell_type": "markdown",
   "id": "d200ec35",
   "metadata": {},
   "source": [
    "# Spliting the data into test and train samples"
   ]
  },
  {
   "cell_type": "code",
   "execution_count": 5,
   "id": "779e79a0",
   "metadata": {},
   "outputs": [],
   "source": [
    "from sklearn.model_selection import train_test_split\n",
    "y = data['total_claim_amount'] \n",
    "X = data.drop(['total_claim_amount'], axis=1) \n",
    "X_num = X.select_dtypes(include = np.number)\n",
    "X_cat = X.select_dtypes(include = object)\n",
    "X_train, X_test, y_train, y_test = train_test_split(X, y, test_size=0.2, random_state=42)"
   ]
  },
  {
   "cell_type": "code",
   "execution_count": 6,
   "id": "17dea5da",
   "metadata": {},
   "outputs": [
    {
     "name": "stdout",
     "output_type": "stream",
     "text": [
      "(7307, 24)\n",
      "(1827, 24)\n",
      "(7307,)\n",
      "(1827,)\n"
     ]
    }
   ],
   "source": [
    "print(X_train.shape)\n",
    "print(X_test.shape)\n",
    "print(y_train.shape)\n",
    "print(y_test.shape)"
   ]
  },
  {
   "cell_type": "markdown",
   "id": "11498fe7",
   "metadata": {},
   "source": [
    "# Split them more into numericals and categoricals"
   ]
  },
  {
   "cell_type": "code",
   "execution_count": 7,
   "id": "38f32ff4",
   "metadata": {},
   "outputs": [],
   "source": [
    "\n",
    "X_train_num = X_train.select_dtypes(include = np.number)\n",
    "X_test_num  = X_test.select_dtypes(include = np.number)\n",
    "X_train_cat = X_train.select_dtypes(include = object)\n",
    "X_test_cat  = X_test.select_dtypes(include = object)"
   ]
  },
  {
   "cell_type": "markdown",
   "id": "e8ab99d9",
   "metadata": {},
   "source": [
    "# Use X_train_num to fit scalers. Transform both X_train_num and X_test_num."
   ]
  },
  {
   "cell_type": "code",
   "execution_count": 8,
   "id": "6f244894",
   "metadata": {},
   "outputs": [
    {
     "data": {
      "text/html": [
       "<div>\n",
       "<style scoped>\n",
       "    .dataframe tbody tr th:only-of-type {\n",
       "        vertical-align: middle;\n",
       "    }\n",
       "\n",
       "    .dataframe tbody tr th {\n",
       "        vertical-align: top;\n",
       "    }\n",
       "\n",
       "    .dataframe thead th {\n",
       "        text-align: right;\n",
       "    }\n",
       "</style>\n",
       "<table border=\"1\" class=\"dataframe\">\n",
       "  <thead>\n",
       "    <tr style=\"text-align: right;\">\n",
       "      <th></th>\n",
       "      <th>Unnamed: 0</th>\n",
       "      <th>customer_lifetime_value</th>\n",
       "      <th>income</th>\n",
       "      <th>monthly_premium_auto</th>\n",
       "      <th>months_since_last_claim</th>\n",
       "      <th>months_since_policy_inception</th>\n",
       "      <th>number_of_open_complaints</th>\n",
       "      <th>number_of_policies</th>\n",
       "      <th>Unnamed: 0</th>\n",
       "    </tr>\n",
       "  </thead>\n",
       "  <tbody>\n",
       "    <tr>\n",
       "      <th>0</th>\n",
       "      <td>0.560885</td>\n",
       "      <td>0.035258</td>\n",
       "      <td>0.511537</td>\n",
       "      <td>0.000000</td>\n",
       "      <td>0.800000</td>\n",
       "      <td>0.323232</td>\n",
       "      <td>0.2</td>\n",
       "      <td>1.0</td>\n",
       "      <td>0.560885</td>\n",
       "    </tr>\n",
       "    <tr>\n",
       "      <th>1</th>\n",
       "      <td>0.847240</td>\n",
       "      <td>0.011416</td>\n",
       "      <td>0.000000</td>\n",
       "      <td>0.075949</td>\n",
       "      <td>0.857143</td>\n",
       "      <td>0.252525</td>\n",
       "      <td>0.0</td>\n",
       "      <td>0.0</td>\n",
       "      <td>0.847240</td>\n",
       "    </tr>\n",
       "    <tr>\n",
       "      <th>2</th>\n",
       "      <td>0.023325</td>\n",
       "      <td>0.012464</td>\n",
       "      <td>0.811124</td>\n",
       "      <td>0.054852</td>\n",
       "      <td>0.200000</td>\n",
       "      <td>0.676768</td>\n",
       "      <td>0.0</td>\n",
       "      <td>0.0</td>\n",
       "      <td>0.023325</td>\n",
       "    </tr>\n",
       "    <tr>\n",
       "      <th>3</th>\n",
       "      <td>0.939444</td>\n",
       "      <td>0.039793</td>\n",
       "      <td>0.722777</td>\n",
       "      <td>0.012658</td>\n",
       "      <td>0.057143</td>\n",
       "      <td>0.666667</td>\n",
       "      <td>0.0</td>\n",
       "      <td>1.0</td>\n",
       "      <td>0.939444</td>\n",
       "    </tr>\n",
       "    <tr>\n",
       "      <th>4</th>\n",
       "      <td>0.860272</td>\n",
       "      <td>0.008748</td>\n",
       "      <td>0.547474</td>\n",
       "      <td>0.021097</td>\n",
       "      <td>0.085714</td>\n",
       "      <td>0.868687</td>\n",
       "      <td>0.0</td>\n",
       "      <td>0.0</td>\n",
       "      <td>0.860272</td>\n",
       "    </tr>\n",
       "  </tbody>\n",
       "</table>\n",
       "</div>"
      ],
      "text/plain": [
       "   Unnamed: 0  customer_lifetime_value    income  monthly_premium_auto  \\\n",
       "0    0.560885                 0.035258  0.511537              0.000000   \n",
       "1    0.847240                 0.011416  0.000000              0.075949   \n",
       "2    0.023325                 0.012464  0.811124              0.054852   \n",
       "3    0.939444                 0.039793  0.722777              0.012658   \n",
       "4    0.860272                 0.008748  0.547474              0.021097   \n",
       "\n",
       "   months_since_last_claim  months_since_policy_inception  \\\n",
       "0                 0.800000                       0.323232   \n",
       "1                 0.857143                       0.252525   \n",
       "2                 0.200000                       0.676768   \n",
       "3                 0.057143                       0.666667   \n",
       "4                 0.085714                       0.868687   \n",
       "\n",
       "   number_of_open_complaints  number_of_policies  Unnamed: 0  \n",
       "0                        0.2                 1.0    0.560885  \n",
       "1                        0.0                 0.0    0.847240  \n",
       "2                        0.0                 0.0    0.023325  \n",
       "3                        0.0                 1.0    0.939444  \n",
       "4                        0.0                 0.0    0.860272  "
      ]
     },
     "execution_count": 8,
     "metadata": {},
     "output_type": "execute_result"
    }
   ],
   "source": [
    "# importing the required libraries\n",
    "from sklearn.preprocessing import MinMaxScaler\n",
    "#from sklearn.preprocessing import StandardScaler\n",
    "# appying scaling tp the numericaldata to normalize them into same level of between 0 and 1\n",
    "transformer = MinMaxScaler().fit(X_train_num) # to use for X_test too\n",
    "X_train_scaled_arr = transformer.transform(X_train_num)\n",
    "X_train_scaled = pd.DataFrame(X_train_scaled_arr, columns=X_train_num.columns)\n",
    "X_train_scaled.head()"
   ]
  },
  {
   "cell_type": "code",
   "execution_count": 9,
   "id": "b48e0dda",
   "metadata": {},
   "outputs": [
    {
     "data": {
      "text/html": [
       "<div>\n",
       "<style scoped>\n",
       "    .dataframe tbody tr th:only-of-type {\n",
       "        vertical-align: middle;\n",
       "    }\n",
       "\n",
       "    .dataframe tbody tr th {\n",
       "        vertical-align: top;\n",
       "    }\n",
       "\n",
       "    .dataframe thead th {\n",
       "        text-align: right;\n",
       "    }\n",
       "</style>\n",
       "<table border=\"1\" class=\"dataframe\">\n",
       "  <thead>\n",
       "    <tr style=\"text-align: right;\">\n",
       "      <th></th>\n",
       "      <th>Unnamed: 0</th>\n",
       "      <th>customer_lifetime_value</th>\n",
       "      <th>income</th>\n",
       "      <th>monthly_premium_auto</th>\n",
       "      <th>months_since_last_claim</th>\n",
       "      <th>months_since_policy_inception</th>\n",
       "      <th>number_of_open_complaints</th>\n",
       "      <th>number_of_policies</th>\n",
       "      <th>Unnamed: 0</th>\n",
       "    </tr>\n",
       "  </thead>\n",
       "  <tbody>\n",
       "    <tr>\n",
       "      <th>0</th>\n",
       "      <td>0.077530</td>\n",
       "      <td>0.032581</td>\n",
       "      <td>0.746148</td>\n",
       "      <td>0.199115</td>\n",
       "      <td>0.028571</td>\n",
       "      <td>0.494949</td>\n",
       "      <td>0.0</td>\n",
       "      <td>0.000</td>\n",
       "      <td>0.077530</td>\n",
       "    </tr>\n",
       "    <tr>\n",
       "      <th>1</th>\n",
       "      <td>0.005147</td>\n",
       "      <td>0.050691</td>\n",
       "      <td>0.232273</td>\n",
       "      <td>0.044248</td>\n",
       "      <td>0.200000</td>\n",
       "      <td>0.101010</td>\n",
       "      <td>0.0</td>\n",
       "      <td>0.375</td>\n",
       "      <td>0.005147</td>\n",
       "    </tr>\n",
       "    <tr>\n",
       "      <th>2</th>\n",
       "      <td>0.437473</td>\n",
       "      <td>0.026770</td>\n",
       "      <td>0.949410</td>\n",
       "      <td>0.146018</td>\n",
       "      <td>0.085714</td>\n",
       "      <td>0.383838</td>\n",
       "      <td>0.0</td>\n",
       "      <td>0.000</td>\n",
       "      <td>0.437473</td>\n",
       "    </tr>\n",
       "    <tr>\n",
       "      <th>3</th>\n",
       "      <td>0.165681</td>\n",
       "      <td>0.084346</td>\n",
       "      <td>0.771839</td>\n",
       "      <td>0.168142</td>\n",
       "      <td>0.085714</td>\n",
       "      <td>0.272727</td>\n",
       "      <td>0.2</td>\n",
       "      <td>0.500</td>\n",
       "      <td>0.165681</td>\n",
       "    </tr>\n",
       "    <tr>\n",
       "      <th>4</th>\n",
       "      <td>0.403636</td>\n",
       "      <td>0.084582</td>\n",
       "      <td>0.237785</td>\n",
       "      <td>0.035398</td>\n",
       "      <td>0.514286</td>\n",
       "      <td>0.141414</td>\n",
       "      <td>0.0</td>\n",
       "      <td>0.125</td>\n",
       "      <td>0.403636</td>\n",
       "    </tr>\n",
       "  </tbody>\n",
       "</table>\n",
       "</div>"
      ],
      "text/plain": [
       "   Unnamed: 0  customer_lifetime_value    income  monthly_premium_auto  \\\n",
       "0    0.077530                 0.032581  0.746148              0.199115   \n",
       "1    0.005147                 0.050691  0.232273              0.044248   \n",
       "2    0.437473                 0.026770  0.949410              0.146018   \n",
       "3    0.165681                 0.084346  0.771839              0.168142   \n",
       "4    0.403636                 0.084582  0.237785              0.035398   \n",
       "\n",
       "   months_since_last_claim  months_since_policy_inception  \\\n",
       "0                 0.028571                       0.494949   \n",
       "1                 0.200000                       0.101010   \n",
       "2                 0.085714                       0.383838   \n",
       "3                 0.085714                       0.272727   \n",
       "4                 0.514286                       0.141414   \n",
       "\n",
       "   number_of_open_complaints  number_of_policies  Unnamed: 0  \n",
       "0                        0.0               0.000    0.077530  \n",
       "1                        0.0               0.375    0.005147  \n",
       "2                        0.0               0.000    0.437473  \n",
       "3                        0.2               0.500    0.165681  \n",
       "4                        0.0               0.125    0.403636  "
      ]
     },
     "execution_count": 9,
     "metadata": {},
     "output_type": "execute_result"
    }
   ],
   "source": [
    "transformer = MinMaxScaler().fit(X_test_num) # to use for X_test too\n",
    "X_test_scaled_arr = transformer.transform(X_test_num)\n",
    "X_test_scaled = pd.DataFrame(X_test_scaled_arr, columns=X_test_num.columns)\n",
    "X_test_scaled.head()"
   ]
  },
  {
   "cell_type": "markdown",
   "id": "af624acc",
   "metadata": {},
   "source": [
    "# Encode the categorical variables X_train_cat and X_test_cat"
   ]
  },
  {
   "cell_type": "code",
   "execution_count": 10,
   "id": "085e0911",
   "metadata": {},
   "outputs": [],
   "source": [
    "X_train_cat1 = X_train_cat[['coverage', 'employmentstatus', 'location_code', 'vehicle_size', 'education']]\n",
    "X_test_cat1 = X_test_cat[['coverage', 'employmentstatus', 'location_code', 'vehicle_size', 'education']]\n",
    "X_train_cat2 = X_train_cat[['state','marital_status', 'policy_type', 'sales_channel', 'response','gender','year','month', 'employmentstatus','vehicle_class','renew_offer_type']]\n",
    "X_test_cat2 = X_test_cat[['state','marital_status', 'policy_type', 'sales_channel', 'response','gender','year','month','employmentstatus', 'vehicle_class','renew_offer_type']]"
   ]
  },
  {
   "cell_type": "code",
   "execution_count": 11,
   "id": "5b0320ab",
   "metadata": {},
   "outputs": [
    {
     "name": "stderr",
     "output_type": "stream",
     "text": [
      "C:\\Users\\ninav\\AppData\\Local\\Temp\\ipykernel_6460\\589840158.py:1: UserWarning: Pandas doesn't allow columns to be created via a new attribute name - see https://pandas.pydata.org/pandas-docs/stable/indexing.html#attribute-access\n",
      "  X_train_cat.ordinal = pd.get_dummies(X_train_cat1)\n",
      "C:\\Users\\ninav\\AppData\\Local\\Temp\\ipykernel_6460\\589840158.py:2: UserWarning: Pandas doesn't allow columns to be created via a new attribute name - see https://pandas.pydata.org/pandas-docs/stable/indexing.html#attribute-access\n",
      "  X_test_cat.ordinal = pd.get_dummies(X_test_cat1)\n"
     ]
    }
   ],
   "source": [
    "X_train_cat.ordinal = pd.get_dummies(X_train_cat1)\n",
    "X_test_cat.ordinal = pd.get_dummies(X_test_cat1)"
   ]
  },
  {
   "cell_type": "code",
   "execution_count": 12,
   "id": "321e6cd4",
   "metadata": {},
   "outputs": [
    {
     "data": {
      "text/plain": [
       "Unnamed: 0                         int64\n",
       "customer_lifetime_value          float64\n",
       "income                             int64\n",
       "monthly_premium_auto               int64\n",
       "months_since_last_claim            int64\n",
       "months_since_policy_inception      int64\n",
       "number_of_open_complaints          int64\n",
       "number_of_policies                 int64\n",
       "Unnamed: 0                         int64\n",
       "dtype: object"
      ]
     },
     "execution_count": 12,
     "metadata": {},
     "output_type": "execute_result"
    }
   ],
   "source": [
    "X_num.dtypes"
   ]
  },
  {
   "cell_type": "code",
   "execution_count": 13,
   "id": "b2e6f93d",
   "metadata": {},
   "outputs": [
    {
     "data": {
      "text/html": [
       "<div>\n",
       "<style scoped>\n",
       "    .dataframe tbody tr th:only-of-type {\n",
       "        vertical-align: middle;\n",
       "    }\n",
       "\n",
       "    .dataframe tbody tr th {\n",
       "        vertical-align: top;\n",
       "    }\n",
       "\n",
       "    .dataframe thead th {\n",
       "        text-align: right;\n",
       "    }\n",
       "</style>\n",
       "<table border=\"1\" class=\"dataframe\">\n",
       "  <thead>\n",
       "    <tr style=\"text-align: right;\">\n",
       "      <th></th>\n",
       "      <th>state_California</th>\n",
       "      <th>state_Nevada</th>\n",
       "      <th>state_Oregon</th>\n",
       "      <th>state_Washington</th>\n",
       "      <th>marital_status_Married</th>\n",
       "      <th>marital_status_Single</th>\n",
       "      <th>policy_type_Corporate Auto L2</th>\n",
       "      <th>policy_type_Corporate Auto L3</th>\n",
       "      <th>policy_type_Personal Auto L1</th>\n",
       "      <th>policy_type_Personal Auto L2</th>\n",
       "      <th>...</th>\n",
       "      <th>employmentstatus_Retired</th>\n",
       "      <th>employmentstatus_Unemployed</th>\n",
       "      <th>vehicle_class_Luxury Car</th>\n",
       "      <th>vehicle_class_Luxury SUV</th>\n",
       "      <th>vehicle_class_SUV</th>\n",
       "      <th>vehicle_class_Sports Car</th>\n",
       "      <th>vehicle_class_Two-Door Car</th>\n",
       "      <th>renew_offer_type_Offer2</th>\n",
       "      <th>renew_offer_type_Offer3</th>\n",
       "      <th>renew_offer_type_Offer4</th>\n",
       "    </tr>\n",
       "  </thead>\n",
       "  <tbody>\n",
       "    <tr>\n",
       "      <th>0</th>\n",
       "      <td>0.0</td>\n",
       "      <td>0.0</td>\n",
       "      <td>0.0</td>\n",
       "      <td>1.0</td>\n",
       "      <td>1.0</td>\n",
       "      <td>0.0</td>\n",
       "      <td>0.0</td>\n",
       "      <td>0.0</td>\n",
       "      <td>0.0</td>\n",
       "      <td>0.0</td>\n",
       "      <td>...</td>\n",
       "      <td>0.0</td>\n",
       "      <td>0.0</td>\n",
       "      <td>0.0</td>\n",
       "      <td>0.0</td>\n",
       "      <td>0.0</td>\n",
       "      <td>0.0</td>\n",
       "      <td>1.0</td>\n",
       "      <td>0.0</td>\n",
       "      <td>0.0</td>\n",
       "      <td>0.0</td>\n",
       "    </tr>\n",
       "    <tr>\n",
       "      <th>1</th>\n",
       "      <td>0.0</td>\n",
       "      <td>0.0</td>\n",
       "      <td>1.0</td>\n",
       "      <td>0.0</td>\n",
       "      <td>0.0</td>\n",
       "      <td>1.0</td>\n",
       "      <td>0.0</td>\n",
       "      <td>0.0</td>\n",
       "      <td>0.0</td>\n",
       "      <td>0.0</td>\n",
       "      <td>...</td>\n",
       "      <td>0.0</td>\n",
       "      <td>1.0</td>\n",
       "      <td>0.0</td>\n",
       "      <td>0.0</td>\n",
       "      <td>0.0</td>\n",
       "      <td>0.0</td>\n",
       "      <td>0.0</td>\n",
       "      <td>0.0</td>\n",
       "      <td>1.0</td>\n",
       "      <td>0.0</td>\n",
       "    </tr>\n",
       "    <tr>\n",
       "      <th>2</th>\n",
       "      <td>0.0</td>\n",
       "      <td>0.0</td>\n",
       "      <td>0.0</td>\n",
       "      <td>0.0</td>\n",
       "      <td>0.0</td>\n",
       "      <td>0.0</td>\n",
       "      <td>0.0</td>\n",
       "      <td>0.0</td>\n",
       "      <td>1.0</td>\n",
       "      <td>0.0</td>\n",
       "      <td>...</td>\n",
       "      <td>0.0</td>\n",
       "      <td>0.0</td>\n",
       "      <td>0.0</td>\n",
       "      <td>0.0</td>\n",
       "      <td>0.0</td>\n",
       "      <td>0.0</td>\n",
       "      <td>0.0</td>\n",
       "      <td>0.0</td>\n",
       "      <td>0.0</td>\n",
       "      <td>1.0</td>\n",
       "    </tr>\n",
       "    <tr>\n",
       "      <th>3</th>\n",
       "      <td>1.0</td>\n",
       "      <td>0.0</td>\n",
       "      <td>0.0</td>\n",
       "      <td>0.0</td>\n",
       "      <td>1.0</td>\n",
       "      <td>0.0</td>\n",
       "      <td>0.0</td>\n",
       "      <td>1.0</td>\n",
       "      <td>0.0</td>\n",
       "      <td>0.0</td>\n",
       "      <td>...</td>\n",
       "      <td>0.0</td>\n",
       "      <td>0.0</td>\n",
       "      <td>0.0</td>\n",
       "      <td>0.0</td>\n",
       "      <td>0.0</td>\n",
       "      <td>0.0</td>\n",
       "      <td>0.0</td>\n",
       "      <td>0.0</td>\n",
       "      <td>1.0</td>\n",
       "      <td>0.0</td>\n",
       "    </tr>\n",
       "    <tr>\n",
       "      <th>4</th>\n",
       "      <td>0.0</td>\n",
       "      <td>0.0</td>\n",
       "      <td>0.0</td>\n",
       "      <td>1.0</td>\n",
       "      <td>0.0</td>\n",
       "      <td>1.0</td>\n",
       "      <td>0.0</td>\n",
       "      <td>0.0</td>\n",
       "      <td>0.0</td>\n",
       "      <td>0.0</td>\n",
       "      <td>...</td>\n",
       "      <td>0.0</td>\n",
       "      <td>0.0</td>\n",
       "      <td>0.0</td>\n",
       "      <td>0.0</td>\n",
       "      <td>0.0</td>\n",
       "      <td>0.0</td>\n",
       "      <td>0.0</td>\n",
       "      <td>0.0</td>\n",
       "      <td>1.0</td>\n",
       "      <td>0.0</td>\n",
       "    </tr>\n",
       "  </tbody>\n",
       "</table>\n",
       "<p>5 rows × 32 columns</p>\n",
       "</div>"
      ],
      "text/plain": [
       "   state_California  state_Nevada  state_Oregon  state_Washington  \\\n",
       "0               0.0           0.0           0.0               1.0   \n",
       "1               0.0           0.0           1.0               0.0   \n",
       "2               0.0           0.0           0.0               0.0   \n",
       "3               1.0           0.0           0.0               0.0   \n",
       "4               0.0           0.0           0.0               1.0   \n",
       "\n",
       "   marital_status_Married  marital_status_Single  \\\n",
       "0                     1.0                    0.0   \n",
       "1                     0.0                    1.0   \n",
       "2                     0.0                    0.0   \n",
       "3                     1.0                    0.0   \n",
       "4                     0.0                    1.0   \n",
       "\n",
       "   policy_type_Corporate Auto L2  policy_type_Corporate Auto L3  \\\n",
       "0                            0.0                            0.0   \n",
       "1                            0.0                            0.0   \n",
       "2                            0.0                            0.0   \n",
       "3                            0.0                            1.0   \n",
       "4                            0.0                            0.0   \n",
       "\n",
       "   policy_type_Personal Auto L1  policy_type_Personal Auto L2  ...  \\\n",
       "0                           0.0                           0.0  ...   \n",
       "1                           0.0                           0.0  ...   \n",
       "2                           1.0                           0.0  ...   \n",
       "3                           0.0                           0.0  ...   \n",
       "4                           0.0                           0.0  ...   \n",
       "\n",
       "   employmentstatus_Retired  employmentstatus_Unemployed  \\\n",
       "0                       0.0                          0.0   \n",
       "1                       0.0                          1.0   \n",
       "2                       0.0                          0.0   \n",
       "3                       0.0                          0.0   \n",
       "4                       0.0                          0.0   \n",
       "\n",
       "   vehicle_class_Luxury Car  vehicle_class_Luxury SUV  vehicle_class_SUV  \\\n",
       "0                       0.0                       0.0                0.0   \n",
       "1                       0.0                       0.0                0.0   \n",
       "2                       0.0                       0.0                0.0   \n",
       "3                       0.0                       0.0                0.0   \n",
       "4                       0.0                       0.0                0.0   \n",
       "\n",
       "   vehicle_class_Sports Car  vehicle_class_Two-Door Car  \\\n",
       "0                       0.0                         1.0   \n",
       "1                       0.0                         0.0   \n",
       "2                       0.0                         0.0   \n",
       "3                       0.0                         0.0   \n",
       "4                       0.0                         0.0   \n",
       "\n",
       "   renew_offer_type_Offer2  renew_offer_type_Offer3  renew_offer_type_Offer4  \n",
       "0                      0.0                      0.0                      0.0  \n",
       "1                      0.0                      1.0                      0.0  \n",
       "2                      0.0                      0.0                      1.0  \n",
       "3                      0.0                      1.0                      0.0  \n",
       "4                      0.0                      1.0                      0.0  \n",
       "\n",
       "[5 rows x 32 columns]"
      ]
     },
     "execution_count": 13,
     "metadata": {},
     "output_type": "execute_result"
    }
   ],
   "source": [
    "from sklearn.preprocessing import OneHotEncoder\n",
    "encoder = OneHotEncoder(drop='first').fit(X_train_cat2)\n",
    "encoded_cat = encoder.transform(X_train_cat2).toarray()\n",
    "cols = encoder.get_feature_names_out(input_features=X_train_cat2.columns)\n",
    "\n",
    "onehot_encoded_train = pd.DataFrame(encoded_cat, columns=cols)\n",
    "onehot_encoded_train.head()"
   ]
  },
  {
   "cell_type": "code",
   "execution_count": 14,
   "id": "fa97076f",
   "metadata": {},
   "outputs": [
    {
     "data": {
      "text/html": [
       "<div>\n",
       "<style scoped>\n",
       "    .dataframe tbody tr th:only-of-type {\n",
       "        vertical-align: middle;\n",
       "    }\n",
       "\n",
       "    .dataframe tbody tr th {\n",
       "        vertical-align: top;\n",
       "    }\n",
       "\n",
       "    .dataframe thead th {\n",
       "        text-align: right;\n",
       "    }\n",
       "</style>\n",
       "<table border=\"1\" class=\"dataframe\">\n",
       "  <thead>\n",
       "    <tr style=\"text-align: right;\">\n",
       "      <th></th>\n",
       "      <th>state_California</th>\n",
       "      <th>state_Nevada</th>\n",
       "      <th>state_Oregon</th>\n",
       "      <th>state_Washington</th>\n",
       "      <th>marital_status_Married</th>\n",
       "      <th>marital_status_Single</th>\n",
       "      <th>policy_type_Corporate Auto L2</th>\n",
       "      <th>policy_type_Corporate Auto L3</th>\n",
       "      <th>policy_type_Personal Auto L1</th>\n",
       "      <th>policy_type_Personal Auto L2</th>\n",
       "      <th>...</th>\n",
       "      <th>employmentstatus_Retired</th>\n",
       "      <th>employmentstatus_Unemployed</th>\n",
       "      <th>vehicle_class_Luxury Car</th>\n",
       "      <th>vehicle_class_Luxury SUV</th>\n",
       "      <th>vehicle_class_SUV</th>\n",
       "      <th>vehicle_class_Sports Car</th>\n",
       "      <th>vehicle_class_Two-Door Car</th>\n",
       "      <th>renew_offer_type_Offer2</th>\n",
       "      <th>renew_offer_type_Offer3</th>\n",
       "      <th>renew_offer_type_Offer4</th>\n",
       "    </tr>\n",
       "  </thead>\n",
       "  <tbody>\n",
       "    <tr>\n",
       "      <th>0</th>\n",
       "      <td>1.0</td>\n",
       "      <td>0.0</td>\n",
       "      <td>0.0</td>\n",
       "      <td>0.0</td>\n",
       "      <td>1.0</td>\n",
       "      <td>0.0</td>\n",
       "      <td>0.0</td>\n",
       "      <td>0.0</td>\n",
       "      <td>0.0</td>\n",
       "      <td>0.0</td>\n",
       "      <td>...</td>\n",
       "      <td>0.0</td>\n",
       "      <td>0.0</td>\n",
       "      <td>0.0</td>\n",
       "      <td>0.0</td>\n",
       "      <td>1.0</td>\n",
       "      <td>0.0</td>\n",
       "      <td>0.0</td>\n",
       "      <td>1.0</td>\n",
       "      <td>0.0</td>\n",
       "      <td>0.0</td>\n",
       "    </tr>\n",
       "    <tr>\n",
       "      <th>1</th>\n",
       "      <td>0.0</td>\n",
       "      <td>0.0</td>\n",
       "      <td>1.0</td>\n",
       "      <td>0.0</td>\n",
       "      <td>0.0</td>\n",
       "      <td>1.0</td>\n",
       "      <td>0.0</td>\n",
       "      <td>0.0</td>\n",
       "      <td>0.0</td>\n",
       "      <td>1.0</td>\n",
       "      <td>...</td>\n",
       "      <td>0.0</td>\n",
       "      <td>0.0</td>\n",
       "      <td>0.0</td>\n",
       "      <td>0.0</td>\n",
       "      <td>0.0</td>\n",
       "      <td>0.0</td>\n",
       "      <td>1.0</td>\n",
       "      <td>0.0</td>\n",
       "      <td>0.0</td>\n",
       "      <td>1.0</td>\n",
       "    </tr>\n",
       "    <tr>\n",
       "      <th>2</th>\n",
       "      <td>0.0</td>\n",
       "      <td>0.0</td>\n",
       "      <td>1.0</td>\n",
       "      <td>0.0</td>\n",
       "      <td>1.0</td>\n",
       "      <td>0.0</td>\n",
       "      <td>0.0</td>\n",
       "      <td>0.0</td>\n",
       "      <td>0.0</td>\n",
       "      <td>0.0</td>\n",
       "      <td>...</td>\n",
       "      <td>0.0</td>\n",
       "      <td>0.0</td>\n",
       "      <td>0.0</td>\n",
       "      <td>0.0</td>\n",
       "      <td>0.0</td>\n",
       "      <td>0.0</td>\n",
       "      <td>1.0</td>\n",
       "      <td>1.0</td>\n",
       "      <td>0.0</td>\n",
       "      <td>0.0</td>\n",
       "    </tr>\n",
       "    <tr>\n",
       "      <th>3</th>\n",
       "      <td>1.0</td>\n",
       "      <td>0.0</td>\n",
       "      <td>0.0</td>\n",
       "      <td>0.0</td>\n",
       "      <td>1.0</td>\n",
       "      <td>0.0</td>\n",
       "      <td>0.0</td>\n",
       "      <td>0.0</td>\n",
       "      <td>0.0</td>\n",
       "      <td>0.0</td>\n",
       "      <td>...</td>\n",
       "      <td>0.0</td>\n",
       "      <td>0.0</td>\n",
       "      <td>0.0</td>\n",
       "      <td>0.0</td>\n",
       "      <td>0.0</td>\n",
       "      <td>0.0</td>\n",
       "      <td>0.0</td>\n",
       "      <td>0.0</td>\n",
       "      <td>0.0</td>\n",
       "      <td>0.0</td>\n",
       "    </tr>\n",
       "    <tr>\n",
       "      <th>4</th>\n",
       "      <td>0.0</td>\n",
       "      <td>0.0</td>\n",
       "      <td>0.0</td>\n",
       "      <td>1.0</td>\n",
       "      <td>0.0</td>\n",
       "      <td>0.0</td>\n",
       "      <td>0.0</td>\n",
       "      <td>0.0</td>\n",
       "      <td>0.0</td>\n",
       "      <td>1.0</td>\n",
       "      <td>...</td>\n",
       "      <td>0.0</td>\n",
       "      <td>0.0</td>\n",
       "      <td>0.0</td>\n",
       "      <td>0.0</td>\n",
       "      <td>0.0</td>\n",
       "      <td>0.0</td>\n",
       "      <td>0.0</td>\n",
       "      <td>0.0</td>\n",
       "      <td>0.0</td>\n",
       "      <td>0.0</td>\n",
       "    </tr>\n",
       "  </tbody>\n",
       "</table>\n",
       "<p>5 rows × 32 columns</p>\n",
       "</div>"
      ],
      "text/plain": [
       "   state_California  state_Nevada  state_Oregon  state_Washington  \\\n",
       "0               1.0           0.0           0.0               0.0   \n",
       "1               0.0           0.0           1.0               0.0   \n",
       "2               0.0           0.0           1.0               0.0   \n",
       "3               1.0           0.0           0.0               0.0   \n",
       "4               0.0           0.0           0.0               1.0   \n",
       "\n",
       "   marital_status_Married  marital_status_Single  \\\n",
       "0                     1.0                    0.0   \n",
       "1                     0.0                    1.0   \n",
       "2                     1.0                    0.0   \n",
       "3                     1.0                    0.0   \n",
       "4                     0.0                    0.0   \n",
       "\n",
       "   policy_type_Corporate Auto L2  policy_type_Corporate Auto L3  \\\n",
       "0                            0.0                            0.0   \n",
       "1                            0.0                            0.0   \n",
       "2                            0.0                            0.0   \n",
       "3                            0.0                            0.0   \n",
       "4                            0.0                            0.0   \n",
       "\n",
       "   policy_type_Personal Auto L1  policy_type_Personal Auto L2  ...  \\\n",
       "0                           0.0                           0.0  ...   \n",
       "1                           0.0                           1.0  ...   \n",
       "2                           0.0                           0.0  ...   \n",
       "3                           0.0                           0.0  ...   \n",
       "4                           0.0                           1.0  ...   \n",
       "\n",
       "   employmentstatus_Retired  employmentstatus_Unemployed  \\\n",
       "0                       0.0                          0.0   \n",
       "1                       0.0                          0.0   \n",
       "2                       0.0                          0.0   \n",
       "3                       0.0                          0.0   \n",
       "4                       0.0                          0.0   \n",
       "\n",
       "   vehicle_class_Luxury Car  vehicle_class_Luxury SUV  vehicle_class_SUV  \\\n",
       "0                       0.0                       0.0                1.0   \n",
       "1                       0.0                       0.0                0.0   \n",
       "2                       0.0                       0.0                0.0   \n",
       "3                       0.0                       0.0                0.0   \n",
       "4                       0.0                       0.0                0.0   \n",
       "\n",
       "   vehicle_class_Sports Car  vehicle_class_Two-Door Car  \\\n",
       "0                       0.0                         0.0   \n",
       "1                       0.0                         1.0   \n",
       "2                       0.0                         1.0   \n",
       "3                       0.0                         0.0   \n",
       "4                       0.0                         0.0   \n",
       "\n",
       "   renew_offer_type_Offer2  renew_offer_type_Offer3  renew_offer_type_Offer4  \n",
       "0                      1.0                      0.0                      0.0  \n",
       "1                      0.0                      0.0                      1.0  \n",
       "2                      1.0                      0.0                      0.0  \n",
       "3                      0.0                      0.0                      0.0  \n",
       "4                      0.0                      0.0                      0.0  \n",
       "\n",
       "[5 rows x 32 columns]"
      ]
     },
     "execution_count": 14,
     "metadata": {},
     "output_type": "execute_result"
    }
   ],
   "source": [
    "from sklearn.preprocessing import OneHotEncoder\n",
    "encoder = OneHotEncoder(drop='first').fit(X_test_cat2)\n",
    "encoded_cat = encoder.transform(X_test_cat2).toarray()\n",
    "cols = encoder.get_feature_names_out(input_features=X_test_cat2.columns)\n",
    "\n",
    "onehot_encoded_test = pd.DataFrame(encoded_cat, columns=cols)\n",
    "onehot_encoded_test.head()"
   ]
  },
  {
   "cell_type": "code",
   "execution_count": 15,
   "id": "a3f51456",
   "metadata": {},
   "outputs": [],
   "source": [
    "X_train_cat.ordinal = X_train_cat.ordinal.reset_index(drop=True)\n",
    "onehot_encoded_train = onehot_encoded_train.reset_index(drop=True)"
   ]
  },
  {
   "cell_type": "code",
   "execution_count": 16,
   "id": "c62385be",
   "metadata": {},
   "outputs": [],
   "source": [
    "data1 = pd.concat([X_train_cat.ordinal, onehot_encoded_train], axis=1)"
   ]
  },
  {
   "cell_type": "code",
   "execution_count": 17,
   "id": "df588f99",
   "metadata": {},
   "outputs": [],
   "source": [
    "X_test_cat.ordinal = X_test_cat.ordinal.reset_index(drop=True)\n",
    "onehot_encoded_test = onehot_encoded_test.reset_index(drop=True)"
   ]
  },
  {
   "cell_type": "code",
   "execution_count": 18,
   "id": "ac18801c",
   "metadata": {},
   "outputs": [],
   "source": [
    "data2 = pd.concat([X_test_cat.ordinal, onehot_encoded_test], axis=1)"
   ]
  },
  {
   "cell_type": "code",
   "execution_count": 19,
   "id": "e85a4f35",
   "metadata": {},
   "outputs": [
    {
     "data": {
      "text/plain": [
       "Unnamed: 0                         int64\n",
       "customer_lifetime_value          float64\n",
       "income                             int64\n",
       "monthly_premium_auto               int64\n",
       "months_since_last_claim            int64\n",
       "months_since_policy_inception      int64\n",
       "number_of_open_complaints          int64\n",
       "number_of_policies                 int64\n",
       "Unnamed: 0                         int64\n",
       "dtype: object"
      ]
     },
     "execution_count": 19,
     "metadata": {},
     "output_type": "execute_result"
    }
   ],
   "source": [
    "X_num.dtypes"
   ]
  },
  {
   "cell_type": "markdown",
   "id": "6a94b5af",
   "metadata": {},
   "source": [
    "# Linear Regression"
   ]
  },
  {
   "cell_type": "code",
   "execution_count": 20,
   "id": "aa530039",
   "metadata": {},
   "outputs": [],
   "source": [
    "X_train_scaled = X_train_scaled.reset_index(drop=True)\n",
    "X_test_scaled = X_test_scaled.reset_index(drop=True)"
   ]
  },
  {
   "cell_type": "code",
   "execution_count": 21,
   "id": "7ae12153",
   "metadata": {},
   "outputs": [],
   "source": [
    "X_train_scaled_encoded = pd.concat([X_train_scaled, data1], axis=1)     "
   ]
  },
  {
   "cell_type": "code",
   "execution_count": 22,
   "id": "b7250352",
   "metadata": {},
   "outputs": [
    {
     "data": {
      "text/plain": [
       "(7307, 60)"
      ]
     },
     "execution_count": 22,
     "metadata": {},
     "output_type": "execute_result"
    }
   ],
   "source": [
    "X_train_scaled_encoded.shape"
   ]
  },
  {
   "cell_type": "code",
   "execution_count": 23,
   "id": "73ecd3b3",
   "metadata": {},
   "outputs": [],
   "source": [
    "X_test_scaled_encoded = pd.concat([X_test_scaled, data2], axis=1)"
   ]
  },
  {
   "cell_type": "code",
   "execution_count": 24,
   "id": "d997b612",
   "metadata": {},
   "outputs": [
    {
     "data": {
      "text/plain": [
       "Unnamed: 0                        0\n",
       "customer_lifetime_value           0\n",
       "income                            0\n",
       "monthly_premium_auto              0\n",
       "months_since_last_claim           0\n",
       "months_since_policy_inception     0\n",
       "number_of_open_complaints         0\n",
       "number_of_policies                0\n",
       "Unnamed: 0                        0\n",
       "coverage_Basic                    0\n",
       "coverage_Extended                 0\n",
       "coverage_Premium                  0\n",
       "employmentstatus_Disabled         0\n",
       "employmentstatus_Employed         0\n",
       "employmentstatus_Medical Leave    0\n",
       "employmentstatus_Retired          0\n",
       "employmentstatus_Unemployed       0\n",
       "location_code_Rural               0\n",
       "location_code_Suburban            0\n",
       "location_code_Urban               0\n",
       "vehicle_size_Large                0\n",
       "vehicle_size_Medsize              0\n",
       "vehicle_size_Small                0\n",
       "education_Bachelor                0\n",
       "education_College                 0\n",
       "education_Doctor                  0\n",
       "education_High School or Below    0\n",
       "education_Master                  0\n",
       "state_California                  0\n",
       "state_Nevada                      0\n",
       "state_Oregon                      0\n",
       "state_Washington                  0\n",
       "marital_status_Married            0\n",
       "marital_status_Single             0\n",
       "policy_type_Corporate Auto L2     0\n",
       "policy_type_Corporate Auto L3     0\n",
       "policy_type_Personal Auto L1      0\n",
       "policy_type_Personal Auto L2      0\n",
       "policy_type_Personal Auto L3      0\n",
       "policy_type_Special Auto L1       0\n",
       "policy_type_Special Auto L2       0\n",
       "policy_type_Special Auto L3       0\n",
       "sales_channel_Branch              0\n",
       "sales_channel_Call Center         0\n",
       "sales_channel_Web                 0\n",
       "response_Yes                      0\n",
       "gender_M                          0\n",
       "month_2                           0\n",
       "employmentstatus_Employed         0\n",
       "employmentstatus_Medical Leave    0\n",
       "employmentstatus_Retired          0\n",
       "employmentstatus_Unemployed       0\n",
       "vehicle_class_Luxury Car          0\n",
       "vehicle_class_Luxury SUV          0\n",
       "vehicle_class_SUV                 0\n",
       "vehicle_class_Sports Car          0\n",
       "vehicle_class_Two-Door Car        0\n",
       "renew_offer_type_Offer2           0\n",
       "renew_offer_type_Offer3           0\n",
       "renew_offer_type_Offer4           0\n",
       "dtype: int64"
      ]
     },
     "execution_count": 24,
     "metadata": {},
     "output_type": "execute_result"
    }
   ],
   "source": [
    "X_train_scaled_encoded.isna().sum()"
   ]
  },
  {
   "cell_type": "code",
   "execution_count": 25,
   "id": "829b0c1f",
   "metadata": {},
   "outputs": [
    {
     "data": {
      "text/plain": [
       "Unnamed: 0                        0\n",
       "customer_lifetime_value           0\n",
       "income                            0\n",
       "monthly_premium_auto              0\n",
       "months_since_last_claim           0\n",
       "months_since_policy_inception     0\n",
       "number_of_open_complaints         0\n",
       "number_of_policies                0\n",
       "Unnamed: 0                        0\n",
       "coverage_Basic                    0\n",
       "coverage_Extended                 0\n",
       "coverage_Premium                  0\n",
       "employmentstatus_Disabled         0\n",
       "employmentstatus_Employed         0\n",
       "employmentstatus_Medical Leave    0\n",
       "employmentstatus_Retired          0\n",
       "employmentstatus_Unemployed       0\n",
       "location_code_Rural               0\n",
       "location_code_Suburban            0\n",
       "location_code_Urban               0\n",
       "vehicle_size_Large                0\n",
       "vehicle_size_Medsize              0\n",
       "vehicle_size_Small                0\n",
       "education_Bachelor                0\n",
       "education_College                 0\n",
       "education_Doctor                  0\n",
       "education_High School or Below    0\n",
       "education_Master                  0\n",
       "state_California                  0\n",
       "state_Nevada                      0\n",
       "state_Oregon                      0\n",
       "state_Washington                  0\n",
       "marital_status_Married            0\n",
       "marital_status_Single             0\n",
       "policy_type_Corporate Auto L2     0\n",
       "policy_type_Corporate Auto L3     0\n",
       "policy_type_Personal Auto L1      0\n",
       "policy_type_Personal Auto L2      0\n",
       "policy_type_Personal Auto L3      0\n",
       "policy_type_Special Auto L1       0\n",
       "policy_type_Special Auto L2       0\n",
       "policy_type_Special Auto L3       0\n",
       "sales_channel_Branch              0\n",
       "sales_channel_Call Center         0\n",
       "sales_channel_Web                 0\n",
       "response_Yes                      0\n",
       "gender_M                          0\n",
       "month_2                           0\n",
       "employmentstatus_Employed         0\n",
       "employmentstatus_Medical Leave    0\n",
       "employmentstatus_Retired          0\n",
       "employmentstatus_Unemployed       0\n",
       "vehicle_class_Luxury Car          0\n",
       "vehicle_class_Luxury SUV          0\n",
       "vehicle_class_SUV                 0\n",
       "vehicle_class_Sports Car          0\n",
       "vehicle_class_Two-Door Car        0\n",
       "renew_offer_type_Offer2           0\n",
       "renew_offer_type_Offer3           0\n",
       "renew_offer_type_Offer4           0\n",
       "dtype: int64"
      ]
     },
     "execution_count": 25,
     "metadata": {},
     "output_type": "execute_result"
    }
   ],
   "source": [
    "X_test_scaled_encoded.isna().sum()"
   ]
  },
  {
   "cell_type": "code",
   "execution_count": 26,
   "id": "eb132800",
   "metadata": {},
   "outputs": [],
   "source": [
    "#model for train"
   ]
  },
  {
   "cell_type": "code",
   "execution_count": 27,
   "id": "10810215",
   "metadata": {},
   "outputs": [
    {
     "data": {
      "text/html": [
       "<style>#sk-container-id-1 {color: black;background-color: white;}#sk-container-id-1 pre{padding: 0;}#sk-container-id-1 div.sk-toggleable {background-color: white;}#sk-container-id-1 label.sk-toggleable__label {cursor: pointer;display: block;width: 100%;margin-bottom: 0;padding: 0.3em;box-sizing: border-box;text-align: center;}#sk-container-id-1 label.sk-toggleable__label-arrow:before {content: \"▸\";float: left;margin-right: 0.25em;color: #696969;}#sk-container-id-1 label.sk-toggleable__label-arrow:hover:before {color: black;}#sk-container-id-1 div.sk-estimator:hover label.sk-toggleable__label-arrow:before {color: black;}#sk-container-id-1 div.sk-toggleable__content {max-height: 0;max-width: 0;overflow: hidden;text-align: left;background-color: #f0f8ff;}#sk-container-id-1 div.sk-toggleable__content pre {margin: 0.2em;color: black;border-radius: 0.25em;background-color: #f0f8ff;}#sk-container-id-1 input.sk-toggleable__control:checked~div.sk-toggleable__content {max-height: 200px;max-width: 100%;overflow: auto;}#sk-container-id-1 input.sk-toggleable__control:checked~label.sk-toggleable__label-arrow:before {content: \"▾\";}#sk-container-id-1 div.sk-estimator input.sk-toggleable__control:checked~label.sk-toggleable__label {background-color: #d4ebff;}#sk-container-id-1 div.sk-label input.sk-toggleable__control:checked~label.sk-toggleable__label {background-color: #d4ebff;}#sk-container-id-1 input.sk-hidden--visually {border: 0;clip: rect(1px 1px 1px 1px);clip: rect(1px, 1px, 1px, 1px);height: 1px;margin: -1px;overflow: hidden;padding: 0;position: absolute;width: 1px;}#sk-container-id-1 div.sk-estimator {font-family: monospace;background-color: #f0f8ff;border: 1px dotted black;border-radius: 0.25em;box-sizing: border-box;margin-bottom: 0.5em;}#sk-container-id-1 div.sk-estimator:hover {background-color: #d4ebff;}#sk-container-id-1 div.sk-parallel-item::after {content: \"\";width: 100%;border-bottom: 1px solid gray;flex-grow: 1;}#sk-container-id-1 div.sk-label:hover label.sk-toggleable__label {background-color: #d4ebff;}#sk-container-id-1 div.sk-serial::before {content: \"\";position: absolute;border-left: 1px solid gray;box-sizing: border-box;top: 0;bottom: 0;left: 50%;z-index: 0;}#sk-container-id-1 div.sk-serial {display: flex;flex-direction: column;align-items: center;background-color: white;padding-right: 0.2em;padding-left: 0.2em;position: relative;}#sk-container-id-1 div.sk-item {position: relative;z-index: 1;}#sk-container-id-1 div.sk-parallel {display: flex;align-items: stretch;justify-content: center;background-color: white;position: relative;}#sk-container-id-1 div.sk-item::before, #sk-container-id-1 div.sk-parallel-item::before {content: \"\";position: absolute;border-left: 1px solid gray;box-sizing: border-box;top: 0;bottom: 0;left: 50%;z-index: -1;}#sk-container-id-1 div.sk-parallel-item {display: flex;flex-direction: column;z-index: 1;position: relative;background-color: white;}#sk-container-id-1 div.sk-parallel-item:first-child::after {align-self: flex-end;width: 50%;}#sk-container-id-1 div.sk-parallel-item:last-child::after {align-self: flex-start;width: 50%;}#sk-container-id-1 div.sk-parallel-item:only-child::after {width: 0;}#sk-container-id-1 div.sk-dashed-wrapped {border: 1px dashed gray;margin: 0 0.4em 0.5em 0.4em;box-sizing: border-box;padding-bottom: 0.4em;background-color: white;}#sk-container-id-1 div.sk-label label {font-family: monospace;font-weight: bold;display: inline-block;line-height: 1.2em;}#sk-container-id-1 div.sk-label-container {text-align: center;}#sk-container-id-1 div.sk-container {/* jupyter's `normalize.less` sets `[hidden] { display: none; }` but bootstrap.min.css set `[hidden] { display: none !important; }` so we also need the `!important` here to be able to override the default hidden behavior on the sphinx rendered scikit-learn.org. See: https://github.com/scikit-learn/scikit-learn/issues/21755 */display: inline-block !important;position: relative;}#sk-container-id-1 div.sk-text-repr-fallback {display: none;}</style><div id=\"sk-container-id-1\" class=\"sk-top-container\"><div class=\"sk-text-repr-fallback\"><pre>LinearRegression()</pre><b>In a Jupyter environment, please rerun this cell to show the HTML representation or trust the notebook. <br />On GitHub, the HTML representation is unable to render, please try loading this page with nbviewer.org.</b></div><div class=\"sk-container\" hidden><div class=\"sk-item\"><div class=\"sk-estimator sk-toggleable\"><input class=\"sk-toggleable__control sk-hidden--visually\" id=\"sk-estimator-id-1\" type=\"checkbox\" checked><label for=\"sk-estimator-id-1\" class=\"sk-toggleable__label sk-toggleable__label-arrow\">LinearRegression</label><div class=\"sk-toggleable__content\"><pre>LinearRegression()</pre></div></div></div></div></div>"
      ],
      "text/plain": [
       "LinearRegression()"
      ]
     },
     "execution_count": 27,
     "metadata": {},
     "output_type": "execute_result"
    }
   ],
   "source": [
    "from sklearn.linear_model import LogisticRegression\n",
    "from sklearn import linear_model\n",
    "lm = linear_model.LinearRegression()\n",
    "lm.fit(X_train_scaled_encoded,y_train)"
   ]
  },
  {
   "cell_type": "code",
   "execution_count": 28,
   "id": "e152a3fa",
   "metadata": {},
   "outputs": [
    {
     "data": {
      "text/plain": [
       "0.7743322991504693"
      ]
     },
     "execution_count": 28,
     "metadata": {},
     "output_type": "execute_result"
    }
   ],
   "source": [
    "from sklearn.metrics import r2_score\n",
    "predictions = lm.predict(X_train_scaled_encoded)\n",
    "r2_score(y_train, predictions)"
   ]
  },
  {
   "cell_type": "code",
   "execution_count": 29,
   "id": "6da035a1",
   "metadata": {},
   "outputs": [
    {
     "data": {
      "text/plain": [
       "array([186.8125   , 575.5859375, 402.96875  , ..., 813.3671875,\n",
       "       757.4453125, 293.171875 ])"
      ]
     },
     "execution_count": 29,
     "metadata": {},
     "output_type": "execute_result"
    }
   ],
   "source": [
    "predictions"
   ]
  },
  {
   "cell_type": "code",
   "execution_count": 30,
   "id": "a709748b",
   "metadata": {},
   "outputs": [
    {
     "data": {
      "text/plain": [
       "0.7743322991504693"
      ]
     },
     "execution_count": 30,
     "metadata": {},
     "output_type": "execute_result"
    }
   ],
   "source": [
    "predictions_test = lm.predict(X_train_scaled_encoded)\n",
    "r2_score(y_train, predictions_test)"
   ]
  },
  {
   "cell_type": "code",
   "execution_count": 31,
   "id": "b6b5ee55",
   "metadata": {},
   "outputs": [],
   "source": [
    "#model for test"
   ]
  },
  {
   "cell_type": "code",
   "execution_count": 32,
   "id": "7694ac43",
   "metadata": {},
   "outputs": [
    {
     "data": {
      "text/html": [
       "<style>#sk-container-id-2 {color: black;background-color: white;}#sk-container-id-2 pre{padding: 0;}#sk-container-id-2 div.sk-toggleable {background-color: white;}#sk-container-id-2 label.sk-toggleable__label {cursor: pointer;display: block;width: 100%;margin-bottom: 0;padding: 0.3em;box-sizing: border-box;text-align: center;}#sk-container-id-2 label.sk-toggleable__label-arrow:before {content: \"▸\";float: left;margin-right: 0.25em;color: #696969;}#sk-container-id-2 label.sk-toggleable__label-arrow:hover:before {color: black;}#sk-container-id-2 div.sk-estimator:hover label.sk-toggleable__label-arrow:before {color: black;}#sk-container-id-2 div.sk-toggleable__content {max-height: 0;max-width: 0;overflow: hidden;text-align: left;background-color: #f0f8ff;}#sk-container-id-2 div.sk-toggleable__content pre {margin: 0.2em;color: black;border-radius: 0.25em;background-color: #f0f8ff;}#sk-container-id-2 input.sk-toggleable__control:checked~div.sk-toggleable__content {max-height: 200px;max-width: 100%;overflow: auto;}#sk-container-id-2 input.sk-toggleable__control:checked~label.sk-toggleable__label-arrow:before {content: \"▾\";}#sk-container-id-2 div.sk-estimator input.sk-toggleable__control:checked~label.sk-toggleable__label {background-color: #d4ebff;}#sk-container-id-2 div.sk-label input.sk-toggleable__control:checked~label.sk-toggleable__label {background-color: #d4ebff;}#sk-container-id-2 input.sk-hidden--visually {border: 0;clip: rect(1px 1px 1px 1px);clip: rect(1px, 1px, 1px, 1px);height: 1px;margin: -1px;overflow: hidden;padding: 0;position: absolute;width: 1px;}#sk-container-id-2 div.sk-estimator {font-family: monospace;background-color: #f0f8ff;border: 1px dotted black;border-radius: 0.25em;box-sizing: border-box;margin-bottom: 0.5em;}#sk-container-id-2 div.sk-estimator:hover {background-color: #d4ebff;}#sk-container-id-2 div.sk-parallel-item::after {content: \"\";width: 100%;border-bottom: 1px solid gray;flex-grow: 1;}#sk-container-id-2 div.sk-label:hover label.sk-toggleable__label {background-color: #d4ebff;}#sk-container-id-2 div.sk-serial::before {content: \"\";position: absolute;border-left: 1px solid gray;box-sizing: border-box;top: 0;bottom: 0;left: 50%;z-index: 0;}#sk-container-id-2 div.sk-serial {display: flex;flex-direction: column;align-items: center;background-color: white;padding-right: 0.2em;padding-left: 0.2em;position: relative;}#sk-container-id-2 div.sk-item {position: relative;z-index: 1;}#sk-container-id-2 div.sk-parallel {display: flex;align-items: stretch;justify-content: center;background-color: white;position: relative;}#sk-container-id-2 div.sk-item::before, #sk-container-id-2 div.sk-parallel-item::before {content: \"\";position: absolute;border-left: 1px solid gray;box-sizing: border-box;top: 0;bottom: 0;left: 50%;z-index: -1;}#sk-container-id-2 div.sk-parallel-item {display: flex;flex-direction: column;z-index: 1;position: relative;background-color: white;}#sk-container-id-2 div.sk-parallel-item:first-child::after {align-self: flex-end;width: 50%;}#sk-container-id-2 div.sk-parallel-item:last-child::after {align-self: flex-start;width: 50%;}#sk-container-id-2 div.sk-parallel-item:only-child::after {width: 0;}#sk-container-id-2 div.sk-dashed-wrapped {border: 1px dashed gray;margin: 0 0.4em 0.5em 0.4em;box-sizing: border-box;padding-bottom: 0.4em;background-color: white;}#sk-container-id-2 div.sk-label label {font-family: monospace;font-weight: bold;display: inline-block;line-height: 1.2em;}#sk-container-id-2 div.sk-label-container {text-align: center;}#sk-container-id-2 div.sk-container {/* jupyter's `normalize.less` sets `[hidden] { display: none; }` but bootstrap.min.css set `[hidden] { display: none !important; }` so we also need the `!important` here to be able to override the default hidden behavior on the sphinx rendered scikit-learn.org. See: https://github.com/scikit-learn/scikit-learn/issues/21755 */display: inline-block !important;position: relative;}#sk-container-id-2 div.sk-text-repr-fallback {display: none;}</style><div id=\"sk-container-id-2\" class=\"sk-top-container\"><div class=\"sk-text-repr-fallback\"><pre>LinearRegression()</pre><b>In a Jupyter environment, please rerun this cell to show the HTML representation or trust the notebook. <br />On GitHub, the HTML representation is unable to render, please try loading this page with nbviewer.org.</b></div><div class=\"sk-container\" hidden><div class=\"sk-item\"><div class=\"sk-estimator sk-toggleable\"><input class=\"sk-toggleable__control sk-hidden--visually\" id=\"sk-estimator-id-2\" type=\"checkbox\" checked><label for=\"sk-estimator-id-2\" class=\"sk-toggleable__label sk-toggleable__label-arrow\">LinearRegression</label><div class=\"sk-toggleable__content\"><pre>LinearRegression()</pre></div></div></div></div></div>"
      ],
      "text/plain": [
       "LinearRegression()"
      ]
     },
     "execution_count": 32,
     "metadata": {},
     "output_type": "execute_result"
    }
   ],
   "source": [
    "lm = linear_model.LinearRegression()\n",
    "lm.fit(X_test_scaled_encoded,y_test)"
   ]
  },
  {
   "cell_type": "code",
   "execution_count": 33,
   "id": "16ac0641",
   "metadata": {},
   "outputs": [
    {
     "data": {
      "text/plain": [
       "0.7730670795317589"
      ]
     },
     "execution_count": 33,
     "metadata": {},
     "output_type": "execute_result"
    }
   ],
   "source": [
    "predictions = lm.predict(X_test_scaled_encoded)\n",
    "r2_score(y_test, predictions)"
   ]
  },
  {
   "cell_type": "code",
   "execution_count": 34,
   "id": "65b8c95b",
   "metadata": {},
   "outputs": [
    {
     "data": {
      "text/plain": [
       "array([185.84375 , 455.53125 , 456.984375, ..., 205.15625 , 528.046875,\n",
       "       619.578125])"
      ]
     },
     "execution_count": 34,
     "metadata": {},
     "output_type": "execute_result"
    }
   ],
   "source": [
    "predictions"
   ]
  },
  {
   "cell_type": "code",
   "execution_count": 35,
   "id": "2c059337",
   "metadata": {},
   "outputs": [
    {
     "data": {
      "text/plain": [
       "0.7730670795317589"
      ]
     },
     "execution_count": 35,
     "metadata": {},
     "output_type": "execute_result"
    }
   ],
   "source": [
    "predictions_test = lm.predict(X_test_scaled_encoded)\n",
    "r2_score(y_test, predictions_test)"
   ]
  },
  {
   "cell_type": "code",
   "execution_count": null,
   "id": "b72dae05",
   "metadata": {},
   "outputs": [],
   "source": [
    "#The r2_score is above 0.75 so our model is optimal for making predictions."
   ]
  },
  {
   "cell_type": "markdown",
   "id": "bb52a4ea",
   "metadata": {},
   "source": [
    "# Function to check LinearRegressor and KNeighborsRegressor."
   ]
  },
  {
   "cell_type": "code",
   "execution_count": 36,
   "id": "dbe2f0de",
   "metadata": {},
   "outputs": [],
   "source": [
    "from sklearn.neighbors import KNeighborsRegressor\n",
    "def checkknnregressor(n):\n",
    "    \n",
    "    KNN = KNeighborsRegressor(n_neighbors = n)\n",
    "    KNN.fit(X_train_scaled_encoded, y_train)\n",
    "\n",
    "    score = KNN.score(X_train_scaled_encoded, y_train)\n",
    "    \n",
    "    print(\"Train score is \", score)\n",
    "    \n",
    "    score_test = KNN.score(X_test_scaled_encoded, y_test)\n",
    "    print(\"Test score is \", score_test)"
   ]
  },
  {
   "cell_type": "code",
   "execution_count": 37,
   "id": "d0b9866e",
   "metadata": {},
   "outputs": [
    {
     "name": "stdout",
     "output_type": "stream",
     "text": [
      "Train score is  0.6443788436045288\n",
      "Test score is  0.5806132510846318\n"
     ]
    }
   ],
   "source": [
    "checkknnregressor(10)"
   ]
  },
  {
   "cell_type": "code",
   "execution_count": 38,
   "id": "1b727d1e",
   "metadata": {},
   "outputs": [
    {
     "name": "stdout",
     "output_type": "stream",
     "text": [
      "Train score is  0.5434482868816644\n",
      "Test score is  0.5456214328543338\n"
     ]
    }
   ],
   "source": [
    "checkknnregressor(50)"
   ]
  },
  {
   "cell_type": "code",
   "execution_count": 39,
   "id": "26a7351c",
   "metadata": {},
   "outputs": [
    {
     "name": "stdout",
     "output_type": "stream",
     "text": [
      "Train score is  0.5104233140443138\n",
      "Test score is  0.5238640145050821\n"
     ]
    }
   ],
   "source": [
    "checkknnregressor(100)"
   ]
  },
  {
   "cell_type": "code",
   "execution_count": 40,
   "id": "861b73ef",
   "metadata": {},
   "outputs": [
    {
     "name": "stdout",
     "output_type": "stream",
     "text": [
      "Train score is  0.0001570299410046383\n",
      "Test score is  -0.0028013785528908652\n"
     ]
    }
   ],
   "source": [
    "checkknnregressor(7306)"
   ]
  },
  {
   "cell_type": "code",
   "execution_count": 41,
   "id": "23640e22",
   "metadata": {},
   "outputs": [],
   "source": [
    "from sklearn import linear_model\n",
    "from sklearn.metrics import r2_score\n",
    "\n",
    "def checklinear_model():\n",
    "    LR = linear_model.LinearRegression()\n",
    "    LR.fit(X_train_scaled_encoded, y_train)\n",
    "    LR.fit(X_test_scaled_encoded, y_test)\n",
    "    \n",
    "    predictions_train = LR.predict(X_train_scaled_encoded)\n",
    "    predictions_test = LR.predict(X_test_scaled_encoded)\n",
    "    \n",
    "    score_train = r2_score(predictions_train, y_train)\n",
    "    print(\"Train score is \", score_train)\n",
    "    score_test = r2_score(predictions_test, y_test)\n",
    "    print(\"Test score is \", score_test)"
   ]
  },
  {
   "cell_type": "code",
   "execution_count": 42,
   "id": "0d4398f9",
   "metadata": {},
   "outputs": [
    {
     "name": "stdout",
     "output_type": "stream",
     "text": [
      "Train score is  0.6540164396522599\n",
      "Test score is  0.7064473370165124\n"
     ]
    }
   ],
   "source": [
    "checklinear_model()"
   ]
  },
  {
   "cell_type": "markdown",
   "id": "be2371a2",
   "metadata": {},
   "source": [
    "# MLPRegressor"
   ]
  },
  {
   "cell_type": "code",
   "execution_count": 45,
   "id": "8b96e2c6",
   "metadata": {},
   "outputs": [],
   "source": [
    "from sklearn.neural_network import MLPRegressor\n",
    "def checkmlpregressor(n):\n",
    "    \n",
    "    regr = MLPRegressor(max_iter = n).fit(X_train_scaled_encoded, y_train)\n",
    "\n",
    "    score_test = regr.score(X_test_scaled_encoded, y_test)\n",
    "    display(\"Test score \", score_test)\n",
    "\n",
    "    score = regr.score(X_train_scaled_encoded, y_train)\n",
    "    display(\"Train score \", score)"
   ]
  },
  {
   "cell_type": "code",
   "execution_count": 46,
   "id": "ee74e058",
   "metadata": {},
   "outputs": [
    {
     "name": "stderr",
     "output_type": "stream",
     "text": [
      "C:\\Users\\ninav\\anaconda3\\lib\\site-packages\\sklearn\\neural_network\\_multilayer_perceptron.py:684: ConvergenceWarning: Stochastic Optimizer: Maximum iterations (400) reached and the optimization hasn't converged yet.\n",
      "  warnings.warn(\n"
     ]
    },
    {
     "data": {
      "text/plain": [
       "'Test score '"
      ]
     },
     "metadata": {},
     "output_type": "display_data"
    },
    {
     "data": {
      "text/plain": [
       "0.8122848721309344"
      ]
     },
     "metadata": {},
     "output_type": "display_data"
    },
    {
     "data": {
      "text/plain": [
       "'Train score '"
      ]
     },
     "metadata": {},
     "output_type": "display_data"
    },
    {
     "data": {
      "text/plain": [
       "0.8417978602731703"
      ]
     },
     "metadata": {},
     "output_type": "display_data"
    }
   ],
   "source": [
    "checkmlpregressor(400)"
   ]
  },
  {
   "cell_type": "code",
   "execution_count": null,
   "id": "8b061191",
   "metadata": {},
   "outputs": [],
   "source": [
    "#This model has a test accuracy above 80%"
   ]
  }
 ],
 "metadata": {
  "kernelspec": {
   "display_name": "Python 3 (ipykernel)",
   "language": "python",
   "name": "python3"
  },
  "language_info": {
   "codemirror_mode": {
    "name": "ipython",
    "version": 3
   },
   "file_extension": ".py",
   "mimetype": "text/x-python",
   "name": "python",
   "nbconvert_exporter": "python",
   "pygments_lexer": "ipython3",
   "version": "3.10.9"
  }
 },
 "nbformat": 4,
 "nbformat_minor": 5
}
